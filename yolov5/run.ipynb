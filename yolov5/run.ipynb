{
 "cells": [
  {
   "cell_type": "code",
   "execution_count": 5,
   "metadata": {},
   "outputs": [
    {
     "name": "stdout",
     "output_type": "stream",
     "text": [
      "\u001b[34m\u001b[1mtrain: \u001b[0mweights=yolov5s.pt, cfg=, data=fish_data.yaml, hyp=data\\hyps\\hyp.scratch-low.yaml, epochs=3, batch_size=16, imgsz=640, rect=False, resume=False, nosave=False, noval=False, noautoanchor=False, noplots=False, evolve=None, evolve_population=data\\hyps, resume_evolve=None, bucket=, cache=None, image_weights=False, device=, multi_scale=False, single_cls=False, optimizer=SGD, sync_bn=False, workers=8, project=runs\\train, name=exp, exist_ok=False, quad=False, cos_lr=False, label_smoothing=0.0, patience=100, freeze=[0], save_period=-1, seed=0, local_rank=-1, entity=None, upload_dataset=False, bbox_interval=-1, artifact_alias=latest, ndjson_console=False, ndjson_file=False\n",
      "\u001b[34m\u001b[1mgithub: \u001b[0mskipping check (not a git repository), for updates see https://github.com/ultralytics/yolov5\n",
      "YOLOv5  2024-4-24 Python-3.11.8 torch-2.2.2 CUDA:0 (NVIDIA GeForce RTX 2060, 6144MiB)\n",
      "\n",
      "\u001b[34m\u001b[1mhyperparameters: \u001b[0mlr0=0.01, lrf=0.01, momentum=0.937, weight_decay=0.0005, warmup_epochs=3.0, warmup_momentum=0.8, warmup_bias_lr=0.1, box=0.05, cls=0.5, cls_pw=1.0, obj=1.0, obj_pw=1.0, iou_t=0.2, anchor_t=4.0, fl_gamma=0.0, hsv_h=0.015, hsv_s=0.7, hsv_v=0.4, degrees=0.0, translate=0.1, scale=0.5, shear=0.0, perspective=0.0, flipud=0.0, fliplr=0.5, mosaic=1.0, mixup=0.0, copy_paste=0.0\n",
      "\u001b[34m\u001b[1mTensorBoard: \u001b[0mStart with 'tensorboard --logdir runs\\train', view at http://localhost:6006/\n",
      "COMET WARNING: Native output logging mode is not available, falling back to basic output logging\n",
      "COMET INFO: Experiment is live on comet.com https://www.comet.com/markus1573/yolov5/13f9fbebb40b42e9a101259233b99bcd\n",
      "\n",
      "Overriding model.yaml nc=80 with nc=1\n",
      "\n",
      "                 from  n    params  module                                  arguments\n",
      "  0                -1  1      3520  models.common.Conv                      [3, 32, 6, 2, 2]\n",
      "  1                -1  1     18560  models.common.Conv                      [32, 64, 3, 2]\n",
      "  2                -1  1     18816  models.common.C3                        [64, 64, 1]\n",
      "  3                -1  1     73984  models.common.Conv                      [64, 128, 3, 2]\n",
      "  4                -1  2    115712  models.common.C3                        [128, 128, 2]\n",
      "  5                -1  1    295424  models.common.Conv                      [128, 256, 3, 2]\n",
      "  6                -1  3    625152  models.common.C3                        [256, 256, 3]\n",
      "  7                -1  1   1180672  models.common.Conv                      [256, 512, 3, 2]\n",
      "  8                -1  1   1182720  models.common.C3                        [512, 512, 1]\n",
      "  9                -1  1    656896  models.common.SPPF                      [512, 512, 5]\n",
      " 10                -1  1    131584  models.common.Conv                      [512, 256, 1, 1]\n",
      " 11                -1  1         0  torch.nn.modules.upsampling.Upsample    [None, 2, 'nearest']\n",
      " 12           [-1, 6]  1         0  models.common.Concat                    [1]\n",
      " 13                -1  1    361984  models.common.C3                        [512, 256, 1, False]\n",
      " 14                -1  1     33024  models.common.Conv                      [256, 128, 1, 1]\n",
      " 15                -1  1         0  torch.nn.modules.upsampling.Upsample    [None, 2, 'nearest']\n",
      " 16           [-1, 4]  1         0  models.common.Concat                    [1]\n",
      " 17                -1  1     90880  models.common.C3                        [256, 128, 1, False]\n",
      " 18                -1  1    147712  models.common.Conv                      [128, 128, 3, 2]\n",
      " 19          [-1, 14]  1         0  models.common.Concat                    [1]\n",
      " 20                -1  1    296448  models.common.C3                        [256, 256, 1, False]\n",
      " 21                -1  1    590336  models.common.Conv                      [256, 256, 3, 2]\n",
      " 22          [-1, 10]  1         0  models.common.Concat                    [1]\n",
      " 23                -1  1   1182720  models.common.C3                        [512, 512, 1, False]\n",
      " 24      [17, 20, 23]  1     16182  models.yolo.Detect                      [1, [[10, 13, 16, 30, 33, 23], [30, 61, 62, 45, 59, 119], [116, 90, 156, 198, 373, 326]], [128, 256, 512]]\n",
      "Model summary: 214 layers, 7022326 parameters, 7022326 gradients, 15.9 GFLOPs\n",
      "\n",
      "Transferred 343/349 items from yolov5s.pt\n",
      "\u001b[34m\u001b[1mAMP: \u001b[0mchecks passed\n",
      "\u001b[34m\u001b[1moptimizer:\u001b[0m SGD(lr=0.01) with parameter groups 57 weight(decay=0.0), 60 weight(decay=0.0005), 60 bias\n"
     ]
    },
    {
     "ename": "KeyboardInterrupt",
     "evalue": "",
     "output_type": "error",
     "traceback": [
      "\u001b[1;31m---------------------------------------------------------------------------\u001b[0m",
      "\u001b[1;31mKeyboardInterrupt\u001b[0m                         Traceback (most recent call last)",
      "Cell \u001b[1;32mIn[5], line 11\u001b[0m\n\u001b[0;32m      8\u001b[0m             \u001b[38;5;28mprint\u001b[39m(line\u001b[38;5;241m.\u001b[39mrstrip()\u001b[38;5;241m.\u001b[39mdecode(\u001b[38;5;124m\"\u001b[39m\u001b[38;5;124mutf-8\u001b[39m\u001b[38;5;124m\"\u001b[39m))\n\u001b[0;32m     10\u001b[0m \u001b[38;5;66;03m# Usage:\u001b[39;00m\n\u001b[1;32m---> 11\u001b[0m get_ipython()\u001b[38;5;241m.\u001b[39mrun_line_magic(\u001b[38;5;124m'\u001b[39m\u001b[38;5;124mrunrealcmd\u001b[39m\u001b[38;5;124m'\u001b[39m, \u001b[38;5;124m'\u001b[39m\u001b[38;5;124mpython train.py --img 640 --epochs 3 --data fish_data.yaml --weights yolov5s.pt\u001b[39m\u001b[38;5;124m'\u001b[39m)\n",
      "File \u001b[1;32mc:\\ProgramData\\miniconda3\\Lib\\site-packages\\IPython\\core\\interactiveshell.py:2456\u001b[0m, in \u001b[0;36mInteractiveShell.run_line_magic\u001b[1;34m(self, magic_name, line, _stack_depth)\u001b[0m\n\u001b[0;32m   2454\u001b[0m     kwargs[\u001b[38;5;124m'\u001b[39m\u001b[38;5;124mlocal_ns\u001b[39m\u001b[38;5;124m'\u001b[39m] \u001b[38;5;241m=\u001b[39m \u001b[38;5;28mself\u001b[39m\u001b[38;5;241m.\u001b[39mget_local_scope(stack_depth)\n\u001b[0;32m   2455\u001b[0m \u001b[38;5;28;01mwith\u001b[39;00m \u001b[38;5;28mself\u001b[39m\u001b[38;5;241m.\u001b[39mbuiltin_trap:\n\u001b[1;32m-> 2456\u001b[0m     result \u001b[38;5;241m=\u001b[39m fn(\u001b[38;5;241m*\u001b[39margs, \u001b[38;5;241m*\u001b[39m\u001b[38;5;241m*\u001b[39mkwargs)\n\u001b[0;32m   2458\u001b[0m \u001b[38;5;66;03m# The code below prevents the output from being displayed\u001b[39;00m\n\u001b[0;32m   2459\u001b[0m \u001b[38;5;66;03m# when using magics with decorator @output_can_be_silenced\u001b[39;00m\n\u001b[0;32m   2460\u001b[0m \u001b[38;5;66;03m# when the last Python token in the expression is a ';'.\u001b[39;00m\n\u001b[0;32m   2461\u001b[0m \u001b[38;5;28;01mif\u001b[39;00m \u001b[38;5;28mgetattr\u001b[39m(fn, magic\u001b[38;5;241m.\u001b[39mMAGIC_OUTPUT_CAN_BE_SILENCED, \u001b[38;5;28;01mFalse\u001b[39;00m):\n",
      "Cell \u001b[1;32mIn[5], line 8\u001b[0m, in \u001b[0;36mrunrealcmd\u001b[1;34m(command)\u001b[0m\n\u001b[0;32m      6\u001b[0m \u001b[38;5;28;01mwith\u001b[39;00m Popen(command, stdout\u001b[38;5;241m=\u001b[39mPIPE, shell\u001b[38;5;241m=\u001b[39m\u001b[38;5;28;01mTrue\u001b[39;00m, stderr\u001b[38;5;241m=\u001b[39mSTDOUT, bufsize\u001b[38;5;241m=\u001b[39m\u001b[38;5;241m1\u001b[39m, close_fds\u001b[38;5;241m=\u001b[39m\u001b[38;5;28;01mTrue\u001b[39;00m) \u001b[38;5;28;01mas\u001b[39;00m process:\n\u001b[0;32m      7\u001b[0m     \u001b[38;5;28;01mfor\u001b[39;00m line \u001b[38;5;129;01min\u001b[39;00m \u001b[38;5;28miter\u001b[39m(process\u001b[38;5;241m.\u001b[39mstdout\u001b[38;5;241m.\u001b[39mreadline, \u001b[38;5;124mb\u001b[39m\u001b[38;5;124m\"\u001b[39m\u001b[38;5;124m\"\u001b[39m):\n\u001b[1;32m----> 8\u001b[0m         \u001b[38;5;28mprint\u001b[39m(line\u001b[38;5;241m.\u001b[39mrstrip()\u001b[38;5;241m.\u001b[39mdecode(\u001b[38;5;124m\"\u001b[39m\u001b[38;5;124mutf-8\u001b[39m\u001b[38;5;124m\"\u001b[39m))\n",
      "\u001b[1;31mKeyboardInterrupt\u001b[0m: "
     ]
    }
   ],
   "source": [
    "from subprocess import Popen, PIPE, STDOUT\n",
    "from IPython.core.magic import register_line_magic\n",
    "\n",
    "@register_line_magic\n",
    "def runrealcmd(command):\n",
    "    with Popen(command, stdout=PIPE, shell=True, stderr=STDOUT, bufsize=1, close_fds=True) as process:\n",
    "        for line in iter(process.stdout.readline, b\"\"):\n",
    "            print(line.rstrip().decode(\"utf-8\"))\n",
    "\n",
    "# Usage:\n",
    "%runrealcmd python train.py --img 640 --epochs 3 --data fish_data.yaml --weights yolov5s.pt"
   ]
  },
  {
   "cell_type": "code",
   "execution_count": null,
   "metadata": {},
   "outputs": [],
   "source": []
  }
 ],
 "metadata": {
  "kernelspec": {
   "display_name": "base",
   "language": "python",
   "name": "python3"
  },
  "language_info": {
   "codemirror_mode": {
    "name": "ipython",
    "version": 3
   },
   "file_extension": ".py",
   "mimetype": "text/x-python",
   "name": "python",
   "nbconvert_exporter": "python",
   "pygments_lexer": "ipython3",
   "version": "3.11.8"
  }
 },
 "nbformat": 4,
 "nbformat_minor": 2
}
