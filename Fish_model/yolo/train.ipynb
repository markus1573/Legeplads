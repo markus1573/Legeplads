{
 "cells": [
  {
   "cell_type": "code",
   "execution_count": 1,
   "metadata": {},
   "outputs": [
    {
     "data": {
      "text/plain": [
       "'/Users/markus/Documents/Legeplads'"
      ]
     },
     "execution_count": 1,
     "metadata": {},
     "output_type": "execute_result"
    }
   ],
   "source": [
    "import torch\n",
    "import torch.backends\n",
    "import torchvision.transforms as transforms\n",
    "import torch.optim as optim\n",
    "import torchvision.transforms.functional as FT\n",
    "from torch.utils.data import DataLoader, random_split\n",
    "from dataset import Fish_dataset\n",
    "from Model import yolo_fish\n",
    "from Loss import YoloLoss\n",
    "from utils import (\n",
    "    non_max_suppression,\n",
    "    mean_average_precision,\n",
    "    intersection_over_union,\n",
    "    cellboxes_to_boxes,\n",
    "    get_bboxes,\n",
    "    plot_image,\n",
    "    save_checkpoint,\n",
    "    load_checkpoint,\n",
    "    train_step,\n",
    "    test_step,\n",
    "    eval_model,\n",
    ")\n",
    "from tqdm.auto import tqdm\n",
    "import numpy as np\n",
    "import matplotlib.pyplot as plt\n",
    "import os\n",
    "\n",
    "if os.name == 'nt':  # For Windows\n",
    "    if os.getcwd().split(\"\\\\\")[-1] != \"Legeplads\":\n",
    "        os.chdir('../..')\n",
    "else:  # For Unix and Linux\n",
    "    if os.getcwd().split('/')[-1] != 'Legeplads':\n",
    "        os.chdir('../..')\n",
    "\n",
    "os.getcwd()"
   ]
  },
  {
   "cell_type": "markdown",
   "metadata": {},
   "source": [
    "## Hyperparameters"
   ]
  },
  {
   "cell_type": "code",
   "execution_count": 2,
   "metadata": {},
   "outputs": [],
   "source": [
    "# Hyperparameters etc. \n",
    "LEARNING_RATE = 2e-5\n",
    "DEVICE = \"cuda\" if torch.cuda.is_available() else \"cpu\"\n",
    "BATCH_SIZE = 16 # 64 in original paper but I don't have that much vram, grad accum?\n",
    "WEIGHT_DECAY = 0\n",
    "EPOCHS = 1000\n",
    "NUM_WORKERS = 0 # Test hvad de gør med cuda\n",
    "PIN_MEMORY = True # Test hvad de gør med cuda\n",
    "LOAD_MODEL = False\n",
    "LOAD_MODEL_FILE = \"../overfit.pth.tar\""
   ]
  },
  {
   "cell_type": "code",
   "execution_count": 3,
   "metadata": {},
   "outputs": [
    {
     "ename": "NameError",
     "evalue": "name 'j' is not defined",
     "output_type": "error",
     "traceback": [
      "\u001b[0;31m---------------------------------------------------------------------------\u001b[0m",
      "\u001b[0;31mNameError\u001b[0m                                 Traceback (most recent call last)",
      "Cell \u001b[0;32mIn[3], line 51\u001b[0m\n\u001b[1;32m     48\u001b[0m \u001b[38;5;28;01mif\u001b[39;00m LOAD_MODEL:\n\u001b[1;32m     49\u001b[0m     load_checkpoint(torch\u001b[38;5;241m.\u001b[39mload(LOAD_MODEL_FILE), model1, optimizer)\n\u001b[0;32m---> 51\u001b[0m \u001b[43mj\u001b[49m\n",
      "\u001b[0;31mNameError\u001b[0m: name 'j' is not defined"
     ]
    }
   ],
   "source": [
    "#########################################################################\n",
    "# Set seed for reproducibility\n",
    "seed = 123\n",
    "torch.manual_seed(seed)\n",
    "#########################################################################\n",
    "# Load Data\n",
    "transform = transforms.Compose([transforms.Resize((448, 448)), transforms.ToTensor(),])\n",
    "\n",
    "fish_data = Fish_dataset(\"Fish_model/yolo/train_file.csv\",\n",
    "    transform=transform,)\n",
    "\n",
    "train_dataset, test_dataset = random_split(fish_data,[0.9,0.1],generator=torch.Generator().manual_seed(seed))\n",
    "\n",
    "# train_dataset = Fish_dataset(\n",
    "#     \"Fish_model/yolo/train_file.csv\",\n",
    "#     transform=transform,\n",
    "# )\n",
    "\n",
    "# test_dataset = Fish_dataset(\n",
    "#     \"Fish_model/yolo/test_file.csv\", transform=transform,\n",
    "# )\n",
    "train_loader = DataLoader(\n",
    "    dataset=train_dataset,\n",
    "    batch_size=BATCH_SIZE,\n",
    "    # num_workers=NUM_WORKERS,\n",
    "    # pin_memory=PIN_MEMORY,\n",
    "    shuffle=True,\n",
    "    drop_last=True,\n",
    ")\n",
    "\n",
    "test_loader = DataLoader(\n",
    "    dataset=test_dataset,\n",
    "    batch_size=BATCH_SIZE,\n",
    "    # num_workers=NUM_WORKERS,\n",
    "    # pin_memory=PIN_MEMORY,\n",
    "    shuffle=False,\n",
    "    drop_last=False,\n",
    ")\n",
    "#########################################################################\n",
    "# Model\n",
    "model1 = yolo_fish(split_size=7, num_boxes=2, num_classes=1).to(DEVICE)\n",
    "optimizer = optim.Adam(\n",
    "    model1.parameters(), lr=LEARNING_RATE, weight_decay=WEIGHT_DECAY\n",
    ")\n",
    "loss_fn = YoloLoss()\n",
    "#########################################################################\n",
    "# Load Model\n",
    "if LOAD_MODEL:\n",
    "    load_checkpoint(torch.load(LOAD_MODEL_FILE), model1, optimizer)\n",
    "\n",
    "j"
   ]
  },
  {
   "cell_type": "markdown",
   "metadata": {},
   "source": [
    "## Train/Test loop"
   ]
  },
  {
   "cell_type": "code",
   "execution_count": null,
   "metadata": {},
   "outputs": [],
   "source": [
    "seed = 123\n",
    "torch.manual_seed(seed)\n",
    "train_loss_all = []\n",
    "test_loss_all = []\n",
    "for epoch in tqdm(range(EPOCHS)):\n",
    "    print(f\"Epoch: {epoch}\")\n",
    "    # Train\n",
    "    train_loss = train_step(model1,train_loader,loss_fn,optimizer,DEVICE)\n",
    "    train_loss_all.append(train_loss)\n",
    "\n",
    "    # # Test\n",
    "    # test_loss = test_step(model1,test_loader,loss_fn,DEVICE)\n",
    "    # test_loss_all.append(test_loss)\n",
    "\n",
    "    # pred_boxes, target_boxes = get_bboxes(train_loader, \n",
    "    #                                       model1, \n",
    "    #                                       iou_threshold=0.5, \n",
    "    #                                       threshold=0.4, device=DEVICE\n",
    "    #     )\n",
    "\n",
    "    # mean_avg_prec = mean_average_precision(pred_boxes, \n",
    "    #                                        target_boxes, \n",
    "    #                                        iou_threshold=0.5, \n",
    "    #                                        box_format=\"midpoint\"\n",
    "    #     )\n",
    "    # print(f\"Train mAP: {mean_avg_prec}\")\n",
    "\n",
    "\n",
    "    # if mean_avg_prec > 0.9999999:\n",
    "    #     checkpoint = {\n",
    "    #            \"state_dict\": model1.state_dict(),\n",
    "    #            \"optimizer\": optimizer.state_dict(),\n",
    "    #     }\n",
    "    #     save_checkpoint(checkpoint, filename=LOAD_MODEL_FILE)"
   ]
  },
  {
   "cell_type": "markdown",
   "metadata": {},
   "source": [
    "## Save model"
   ]
  },
  {
   "cell_type": "code",
   "execution_count": 4,
   "metadata": {},
   "outputs": [
    {
     "name": "stdout",
     "output_type": "stream",
     "text": [
      "=> Saving checkpoint\n"
     ]
    }
   ],
   "source": [
    "checkpoint = {\n",
    "               \"state_dict\": model1.state_dict(),\n",
    "               \"optimizer\": optimizer.state_dict(),\n",
    "        }\n",
    "save_checkpoint(checkpoint, filename=LOAD_MODEL_FILE)"
   ]
  },
  {
   "cell_type": "markdown",
   "metadata": {},
   "source": [
    "## eval model"
   ]
  },
  {
   "cell_type": "code",
   "execution_count": null,
   "metadata": {},
   "outputs": [],
   "source": [
    "seed = 123\n",
    "torch.manual_seed(seed)\n",
    "with torch.inference_mode():\n",
    "        pred_boxes, target_boxes = get_bboxes(train_loader, model1, iou_threshold=0.5, threshold=0.5, device=DEVICE, seed=seed)\n",
    "\n",
    "        mean_avg_prec = mean_average_precision(pred_boxes, \n",
    "                                                target_boxes, \n",
    "                                                iou_threshold=0.5, \n",
    "                                                box_format=\"midpoint\"\n",
    "                )\n",
    "        print(f\"Train mAP: {mean_avg_prec}\")"
   ]
  },
  {
   "cell_type": "code",
   "execution_count": null,
   "metadata": {},
   "outputs": [],
   "source": [
    "seed = 123\n",
    "torch.manual_seed(seed)\n",
    "\n",
    "for batch_idx,(x, _) in enumerate(train_loader):\n",
    "        batch_size = x.shape[0]\n",
    "        for idx in range(batch_size):\n",
    "                plot_image(x[idx].permute(1,2,0).to(\"cpu\"),[pred_boxes[idx+batch_idx*batch_size][1:],])\n",
    "        "
   ]
  }
 ],
 "metadata": {
  "kernelspec": {
   "display_name": "base",
   "language": "python",
   "name": "python3"
  },
  "language_info": {
   "codemirror_mode": {
    "name": "ipython",
    "version": 3
   },
   "file_extension": ".py",
   "mimetype": "text/x-python",
   "name": "python",
   "nbconvert_exporter": "python",
   "pygments_lexer": "ipython3",
   "version": "3.11.8"
  }
 },
 "nbformat": 4,
 "nbformat_minor": 2
}
